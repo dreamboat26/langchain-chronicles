{
  "nbformat": 4,
  "nbformat_minor": 0,
  "metadata": {
    "colab": {
      "provenance": [],
      "gpuType": "T4"
    },
    "kernelspec": {
      "name": "python3",
      "display_name": "Python 3"
    },
    "language_info": {
      "name": "python"
    },
    "accelerator": "GPU"
  },
  "cells": [
    {
      "cell_type": "code",
      "execution_count": null,
      "metadata": {
        "id": "G2y-WfQqjYio"
      },
      "outputs": [],
      "source": [
        "%%capture --no-stderr\n",
        "%pip install --quiet -U langchain langchain_community tiktoken langchain-nomic \"nomic[local]\" langchain-ollama scikit-learn langgraph tavily-python bs4"
      ]
    },
    {
      "cell_type": "markdown",
      "source": [
        "\n",
        "Local RAG agent with LLaMA3\n",
        "\n",
        "We'll combine ideas from paper RAG papers into a RAG agent:\n",
        "\n",
        "    Routing: Adaptive RAG (paper). Route questions to different retrieval approaches\n",
        "    Fallback: Corrective RAG (paper). Fallback to web search if docs are not relevant to query\n",
        "    Self-correction: Self-RAG (paper). Fix answers w/ hallucinations or don’t address question\n"
      ],
      "metadata": {
        "id": "CL475cXejiku"
      }
    },
    {
      "cell_type": "code",
      "source": [
        "!pip install langchain-nomic\n",
        "### LLM\n",
        "from langchain_ollama import ChatOllama\n",
        "local_llm = 'llama3.2:3b-instruct-fp16'\n",
        "llm = ChatOllama(model=local_llm, temperature=0)\n",
        "llm_json_mode = ChatOllama(model=local_llm, temperature=0, format='json')"
      ],
      "metadata": {
        "colab": {
          "base_uri": "https://localhost:8080/"
        },
        "id": "2i9-bqu1jkxE",
        "outputId": "696d3930-bcd0-4b2a-cbf8-62da248bda62"
      },
      "execution_count": null,
      "outputs": [
        {
          "output_type": "stream",
          "name": "stdout",
          "text": [
            "Requirement already satisfied: langchain-nomic in /usr/local/lib/python3.10/dist-packages (0.1.3)\n",
            "Requirement already satisfied: langchain-core<0.4,>=0.2.40 in /usr/local/lib/python3.10/dist-packages (from langchain-nomic) (0.3.6)\n",
            "Requirement already satisfied: nomic<4.0.0,>=3.1.2 in /usr/local/lib/python3.10/dist-packages (from langchain-nomic) (3.1.2)\n",
            "Requirement already satisfied: pillow<11.0.0,>=10.3.0 in /usr/local/lib/python3.10/dist-packages (from langchain-nomic) (10.4.0)\n",
            "Requirement already satisfied: PyYAML>=5.3 in /usr/local/lib/python3.10/dist-packages (from langchain-core<0.4,>=0.2.40->langchain-nomic) (6.0.2)\n",
            "Requirement already satisfied: jsonpatch<2.0,>=1.33 in /usr/local/lib/python3.10/dist-packages (from langchain-core<0.4,>=0.2.40->langchain-nomic) (1.33)\n",
            "Requirement already satisfied: langsmith<0.2.0,>=0.1.125 in /usr/local/lib/python3.10/dist-packages (from langchain-core<0.4,>=0.2.40->langchain-nomic) (0.1.129)\n",
            "Requirement already satisfied: packaging<25,>=23.2 in /usr/local/lib/python3.10/dist-packages (from langchain-core<0.4,>=0.2.40->langchain-nomic) (24.1)\n",
            "Requirement already satisfied: pydantic<3.0.0,>=2.5.2 in /usr/local/lib/python3.10/dist-packages (from langchain-core<0.4,>=0.2.40->langchain-nomic) (2.9.2)\n",
            "Requirement already satisfied: tenacity!=8.4.0,<9.0.0,>=8.1.0 in /usr/local/lib/python3.10/dist-packages (from langchain-core<0.4,>=0.2.40->langchain-nomic) (8.5.0)\n",
            "Requirement already satisfied: typing-extensions>=4.7 in /usr/local/lib/python3.10/dist-packages (from langchain-core<0.4,>=0.2.40->langchain-nomic) (4.12.2)\n",
            "Requirement already satisfied: click in /usr/local/lib/python3.10/dist-packages (from nomic<4.0.0,>=3.1.2->langchain-nomic) (8.1.7)\n",
            "Requirement already satisfied: jsonlines in /usr/local/lib/python3.10/dist-packages (from nomic<4.0.0,>=3.1.2->langchain-nomic) (4.0.0)\n",
            "Requirement already satisfied: loguru in /usr/local/lib/python3.10/dist-packages (from nomic<4.0.0,>=3.1.2->langchain-nomic) (0.7.2)\n",
            "Requirement already satisfied: rich in /usr/local/lib/python3.10/dist-packages (from nomic<4.0.0,>=3.1.2->langchain-nomic) (13.8.1)\n",
            "Requirement already satisfied: requests in /usr/local/lib/python3.10/dist-packages (from nomic<4.0.0,>=3.1.2->langchain-nomic) (2.32.3)\n",
            "Requirement already satisfied: numpy in /usr/local/lib/python3.10/dist-packages (from nomic<4.0.0,>=3.1.2->langchain-nomic) (1.26.4)\n",
            "Requirement already satisfied: pandas in /usr/local/lib/python3.10/dist-packages (from nomic<4.0.0,>=3.1.2->langchain-nomic) (2.1.4)\n",
            "Requirement already satisfied: tqdm in /usr/local/lib/python3.10/dist-packages (from nomic<4.0.0,>=3.1.2->langchain-nomic) (4.66.5)\n",
            "Requirement already satisfied: pyarrow in /usr/local/lib/python3.10/dist-packages (from nomic<4.0.0,>=3.1.2->langchain-nomic) (14.0.2)\n",
            "Requirement already satisfied: pyjwt in /usr/local/lib/python3.10/dist-packages (from nomic<4.0.0,>=3.1.2->langchain-nomic) (2.9.0)\n",
            "Requirement already satisfied: jsonpointer>=1.9 in /usr/local/lib/python3.10/dist-packages (from jsonpatch<2.0,>=1.33->langchain-core<0.4,>=0.2.40->langchain-nomic) (3.0.0)\n",
            "Requirement already satisfied: httpx<1,>=0.23.0 in /usr/local/lib/python3.10/dist-packages (from langsmith<0.2.0,>=0.1.125->langchain-core<0.4,>=0.2.40->langchain-nomic) (0.27.2)\n",
            "Requirement already satisfied: orjson<4.0.0,>=3.9.14 in /usr/local/lib/python3.10/dist-packages (from langsmith<0.2.0,>=0.1.125->langchain-core<0.4,>=0.2.40->langchain-nomic) (3.10.7)\n",
            "Requirement already satisfied: annotated-types>=0.6.0 in /usr/local/lib/python3.10/dist-packages (from pydantic<3.0.0,>=2.5.2->langchain-core<0.4,>=0.2.40->langchain-nomic) (0.7.0)\n",
            "Requirement already satisfied: pydantic-core==2.23.4 in /usr/local/lib/python3.10/dist-packages (from pydantic<3.0.0,>=2.5.2->langchain-core<0.4,>=0.2.40->langchain-nomic) (2.23.4)\n",
            "Requirement already satisfied: charset-normalizer<4,>=2 in /usr/local/lib/python3.10/dist-packages (from requests->nomic<4.0.0,>=3.1.2->langchain-nomic) (3.3.2)\n",
            "Requirement already satisfied: idna<4,>=2.5 in /usr/local/lib/python3.10/dist-packages (from requests->nomic<4.0.0,>=3.1.2->langchain-nomic) (3.10)\n",
            "Requirement already satisfied: urllib3<3,>=1.21.1 in /usr/local/lib/python3.10/dist-packages (from requests->nomic<4.0.0,>=3.1.2->langchain-nomic) (2.2.3)\n",
            "Requirement already satisfied: certifi>=2017.4.17 in /usr/local/lib/python3.10/dist-packages (from requests->nomic<4.0.0,>=3.1.2->langchain-nomic) (2024.8.30)\n",
            "Requirement already satisfied: attrs>=19.2.0 in /usr/local/lib/python3.10/dist-packages (from jsonlines->nomic<4.0.0,>=3.1.2->langchain-nomic) (24.2.0)\n",
            "Requirement already satisfied: python-dateutil>=2.8.2 in /usr/local/lib/python3.10/dist-packages (from pandas->nomic<4.0.0,>=3.1.2->langchain-nomic) (2.8.2)\n",
            "Requirement already satisfied: pytz>=2020.1 in /usr/local/lib/python3.10/dist-packages (from pandas->nomic<4.0.0,>=3.1.2->langchain-nomic) (2024.2)\n",
            "Requirement already satisfied: tzdata>=2022.1 in /usr/local/lib/python3.10/dist-packages (from pandas->nomic<4.0.0,>=3.1.2->langchain-nomic) (2024.1)\n",
            "Requirement already satisfied: markdown-it-py>=2.2.0 in /usr/local/lib/python3.10/dist-packages (from rich->nomic<4.0.0,>=3.1.2->langchain-nomic) (3.0.0)\n",
            "Requirement already satisfied: pygments<3.0.0,>=2.13.0 in /usr/local/lib/python3.10/dist-packages (from rich->nomic<4.0.0,>=3.1.2->langchain-nomic) (2.18.0)\n",
            "Requirement already satisfied: anyio in /usr/local/lib/python3.10/dist-packages (from httpx<1,>=0.23.0->langsmith<0.2.0,>=0.1.125->langchain-core<0.4,>=0.2.40->langchain-nomic) (3.7.1)\n",
            "Requirement already satisfied: httpcore==1.* in /usr/local/lib/python3.10/dist-packages (from httpx<1,>=0.23.0->langsmith<0.2.0,>=0.1.125->langchain-core<0.4,>=0.2.40->langchain-nomic) (1.0.5)\n",
            "Requirement already satisfied: sniffio in /usr/local/lib/python3.10/dist-packages (from httpx<1,>=0.23.0->langsmith<0.2.0,>=0.1.125->langchain-core<0.4,>=0.2.40->langchain-nomic) (1.3.1)\n",
            "Requirement already satisfied: h11<0.15,>=0.13 in /usr/local/lib/python3.10/dist-packages (from httpcore==1.*->httpx<1,>=0.23.0->langsmith<0.2.0,>=0.1.125->langchain-core<0.4,>=0.2.40->langchain-nomic) (0.14.0)\n",
            "Requirement already satisfied: mdurl~=0.1 in /usr/local/lib/python3.10/dist-packages (from markdown-it-py>=2.2.0->rich->nomic<4.0.0,>=3.1.2->langchain-nomic) (0.1.2)\n",
            "Requirement already satisfied: six>=1.5 in /usr/local/lib/python3.10/dist-packages (from python-dateutil>=2.8.2->pandas->nomic<4.0.0,>=3.1.2->langchain-nomic) (1.16.0)\n",
            "Requirement already satisfied: exceptiongroup in /usr/local/lib/python3.10/dist-packages (from anyio->httpx<1,>=0.23.0->langsmith<0.2.0,>=0.1.125->langchain-core<0.4,>=0.2.40->langchain-nomic) (1.2.2)\n"
          ]
        }
      ]
    },
    {
      "cell_type": "markdown",
      "source": [
        "# **Search**"
      ],
      "metadata": {
        "id": "96OqZtLpkhPu"
      }
    },
    {
      "cell_type": "code",
      "source": [
        "import os, getpass\n",
        "\n",
        "def _set_env(var: str):\n",
        "    if not os.environ.get(var):\n",
        "        os.environ[var] = getpass.getpass(f\"{var}: \")\n",
        "\n",
        "_set_env(\"TAVILY_API_KEY\")\n",
        "os.environ['TOKENIZERS_PARALLELISM'] = 'true'"
      ],
      "metadata": {
        "colab": {
          "base_uri": "https://localhost:8080/"
        },
        "id": "sL6RS0zkkD9u",
        "outputId": "1f419a7a-889f-4fa5-9b3e-235ec72860a4"
      },
      "execution_count": null,
      "outputs": [
        {
          "name": "stdout",
          "output_type": "stream",
          "text": [
            "TAVILY_API_KEY: ··········\n"
          ]
        }
      ]
    },
    {
      "cell_type": "markdown",
      "source": [
        "# **Tracing**"
      ],
      "metadata": {
        "id": "nF6hY9aTkkhh"
      }
    },
    {
      "cell_type": "code",
      "source": [
        "_set_env(\"LANGCHAIN_API_KEY\")\n",
        "os.environ[\"LANGCHAIN_TRACING_V2\"] = \"true\"\n",
        "os.environ[\"LANGCHAIN_PROJECT\"] = \"local-llama32-rag\""
      ],
      "metadata": {
        "colab": {
          "base_uri": "https://localhost:8080/"
        },
        "id": "Uz20Lttvkfna",
        "outputId": "f74b4b80-fe61-4d12-8447-25f7fd19f4c8"
      },
      "execution_count": null,
      "outputs": [
        {
          "name": "stdout",
          "output_type": "stream",
          "text": [
            "LANGCHAIN_API_KEY: ··········\n"
          ]
        }
      ]
    },
    {
      "cell_type": "markdown",
      "source": [
        "# **Vectorstore**"
      ],
      "metadata": {
        "id": "XTPlZJFLlGVp"
      }
    },
    {
      "cell_type": "code",
      "source": [
        "from langchain.text_splitter import RecursiveCharacterTextSplitter\n",
        "from langchain_community.document_loaders import WebBaseLoader\n",
        "from langchain_community.vectorstores import SKLearnVectorStore\n",
        "from langchain_nomic.embeddings import NomicEmbeddings\n",
        "\n",
        "urls = [\n",
        "    \"https://lilianweng.github.io/posts/2023-06-23-agent/\",\n",
        "    \"https://lilianweng.github.io/posts/2023-03-15-prompt-engineering/\",\n",
        "    \"https://lilianweng.github.io/posts/2023-10-25-adv-attack-llm/\",\n",
        "]\n",
        "\n",
        "# Load documents\n",
        "docs = [WebBaseLoader(url).load() for url in urls]\n",
        "docs_list = [item for sublist in docs for item in sublist]\n",
        "\n",
        "# Split documents\n",
        "text_splitter = RecursiveCharacterTextSplitter.from_tiktoken_encoder(\n",
        "    chunk_size=1000, chunk_overlap=200\n",
        ")\n",
        "doc_splits = text_splitter.split_documents(docs_list)\n",
        "\n",
        "# Add to vectorDB\n",
        "vectorstore = SKLearnVectorStore.from_documents(\n",
        "    documents=doc_splits,\n",
        "    embedding=NomicEmbeddings(model=\"nomic-embed-text-v1.5\", inference_mode=\"local\"),\n",
        ")\n",
        "\n",
        "# Create retriever\n",
        "retriever = vectorstore.as_retriever(k=3)"
      ],
      "metadata": {
        "colab": {
          "base_uri": "https://localhost:8080/"
        },
        "id": "uaK1yjsZlIkH",
        "outputId": "b1a7bd25-a301-4332-8cb0-253a352276dc"
      },
      "execution_count": null,
      "outputs": [
        {
          "metadata": {
            "tags": null
          },
          "name": "stderr",
          "output_type": "stream",
          "text": [
            "WARNING:langchain_community.utils.user_agent:USER_AGENT environment variable not set, consider setting it to identify your requests.\n"
          ]
        }
      ]
    },
    {
      "cell_type": "markdown",
      "source": [
        "# **Components**"
      ],
      "metadata": {
        "id": "_Dl5X5ULlM_g"
      }
    },
    {
      "cell_type": "code",
      "source": [
        "### Router\n",
        "import json\n",
        "from langchain_core.messages import HumanMessage, SystemMessage\n",
        "\n",
        "# Prompt\n",
        "router_instructions = \"\"\"You are an expert at routing a user question to a vectorstore or web search.\n",
        "\n",
        "The vectorstore contains documents related to agents, prompt engineering, and adversarial attacks.\n",
        "\n",
        "Use the vectorstore for questions on these topics. For all else, and especially for current events, use web-search.\n",
        "\n",
        "Return JSON with single key, datasource, that is 'websearch' or 'vectorstore' depending on the question.\"\"\"\n",
        "\n",
        "# Test router\n",
        "test_web_search = llm_json_mode.invoke([SystemMessage(content=router_instructions)] + [HumanMessage(content=\"Who is favored to win the NFC Championship game in the 2024 season?\")])\n",
        "test_web_search_2 = llm_json_mode.invoke([SystemMessage(content=router_instructions)] + [HumanMessage(content=\"What are the models released today for llama3.2?\")])\n",
        "test_vector_store = llm_json_mode.invoke([SystemMessage(content=router_instructions)] + [HumanMessage(content=\"What are the types of agent memory?\")])\n",
        "print(json.loads(test_web_search.content), json.loads(test_web_search_2.content), json.loads(test_vector_store.content))"
      ],
      "metadata": {
        "id": "KdY4X4oblPGG"
      },
      "execution_count": null,
      "outputs": []
    },
    {
      "cell_type": "code",
      "source": [
        "### Retrieval Grader\n",
        "\n",
        "# Doc grader instructions\n",
        "doc_grader_instructions = \"\"\"You are a grader assessing relevance of a retrieved document to a user question.\n",
        "\n",
        "If the document contains keyword(s) or semantic meaning related to the question, grade it as relevant.\"\"\"\n",
        "\n",
        "# Grader prompt\n",
        "doc_grader_prompt = \"\"\"Here is the retrieved document: \\n\\n {document} \\n\\n Here is the user question: \\n\\n {question}.\n",
        "\n",
        "This carefully and objectively assess whether the document contains at least some information that is relevant to the question.\n",
        "\n",
        "Return JSON with single key, binary_score, that is 'yes' or 'no' score to indicate whether the document contains at least some information that is relevant to the question.\"\"\"\n",
        "\n",
        "# Test\n",
        "question = \"What is Chain of thought prompting?\"\n",
        "docs = retriever.invoke(question)\n",
        "doc_txt = docs[1].page_content\n",
        "doc_grader_prompt_formatted = doc_grader_prompt.format(document=doc_txt, question=question)\n",
        "result = llm_json_mode.invoke([SystemMessage(content=doc_grader_instructions)] + [HumanMessage(content=doc_grader_prompt_formatted)])\n",
        "json.loads(result.content)"
      ],
      "metadata": {
        "id": "t7p3Hzp-lSbs"
      },
      "execution_count": null,
      "outputs": []
    },
    {
      "cell_type": "code",
      "source": [
        "### Generate\n",
        "\n",
        "# Prompt\n",
        "rag_prompt = \"\"\"You are an assistant for question-answering tasks.\n",
        "\n",
        "Here is the context to use to answer the question:\n",
        "\n",
        "{context}\n",
        "\n",
        "Think carefully about the above context.\n",
        "\n",
        "Now, review the user question:\n",
        "\n",
        "{question}\n",
        "\n",
        "Provide an answer to this questions using only the above context.\n",
        "\n",
        "Use three sentences maximum and keep the answer concise.\n",
        "\n",
        "Answer:\"\"\"\n",
        "\n",
        "# Post-processing\n",
        "def format_docs(docs):\n",
        "    return \"\\n\\n\".join(doc.page_content for doc in docs)\n",
        "\n",
        "# Test\n",
        "docs = retriever.invoke(question)\n",
        "docs_txt = format_docs(docs)\n",
        "rag_prompt_formatted = rag_prompt.format(context=docs_txt, question=question)\n",
        "generation = llm.invoke([HumanMessage(content=rag_prompt_formatted)])\n",
        "print(generation.content)"
      ],
      "metadata": {
        "id": "mnC5KYVKlTjJ"
      },
      "execution_count": null,
      "outputs": []
    },
    {
      "cell_type": "code",
      "source": [
        "### Hallucination Grader\n",
        "\n",
        "# Hallucination grader instructions\n",
        "hallucination_grader_instructions = \"\"\"\n",
        "\n",
        "You are a teacher grading a quiz.\n",
        "\n",
        "You will be given FACTS and a STUDENT ANSWER.\n",
        "\n",
        "Here is the grade criteria to follow:\n",
        "\n",
        "(1) Ensure the STUDENT ANSWER is grounded in the FACTS.\n",
        "\n",
        "(2) Ensure the STUDENT ANSWER does not contain \"hallucinated\" information outside the scope of the FACTS.\n",
        "\n",
        "Score:\n",
        "\n",
        "A score of yes means that the student's answer meets all of the criteria. This is the highest (best) score.\n",
        "\n",
        "A score of no means that the student's answer does not meet all of the criteria. This is the lowest possible score you can give.\n",
        "\n",
        "Explain your reasoning in a step-by-step manner to ensure your reasoning and conclusion are correct.\n",
        "\n",
        "Avoid simply stating the correct answer at the outset.\"\"\"\n",
        "\n",
        "# Grader prompt\n",
        "hallucination_grader_prompt = \"\"\"FACTS: \\n\\n {documents} \\n\\n STUDENT ANSWER: {generation}.\n",
        "\n",
        "Return JSON with two two keys, binary_score is 'yes' or 'no' score to indicate whether the STUDENT ANSWER is grounded in the FACTS. And a key, explanation, that contains an explanation of the score.\"\"\"\n",
        "\n",
        "# Test using documents and generation from above\n",
        "hallucination_grader_prompt_formatted = hallucination_grader_prompt.format(documents=docs_txt, generation=generation.content)\n",
        "result = llm_json_mode.invoke([SystemMessage(content=hallucination_grader_instructions)] + [HumanMessage(content=hallucination_grader_prompt_formatted)])\n",
        "json.loads(result.content)"
      ],
      "metadata": {
        "id": "rL1x8P75lW1s"
      },
      "execution_count": null,
      "outputs": []
    },
    {
      "cell_type": "code",
      "source": [
        "### Answer Grader\n",
        "\n",
        "# Answer grader instructions\n",
        "answer_grader_instructions = \"\"\"You are a teacher grading a quiz.\n",
        "\n",
        "You will be given a QUESTION and a STUDENT ANSWER.\n",
        "\n",
        "Here is the grade criteria to follow:\n",
        "\n",
        "(1) The STUDENT ANSWER helps to answer the QUESTION\n",
        "\n",
        "Score:\n",
        "\n",
        "A score of yes means that the student's answer meets all of the criteria. This is the highest (best) score.\n",
        "\n",
        "The student can receive a score of yes if the answer contains extra information that is not explicitly asked for in the question.\n",
        "\n",
        "A score of no means that the student's answer does not meet all of the criteria. This is the lowest possible score you can give.\n",
        "\n",
        "Explain your reasoning in a step-by-step manner to ensure your reasoning and conclusion are correct.\n",
        "\n",
        "Avoid simply stating the correct answer at the outset.\"\"\"\n",
        "\n",
        "# Grader prompt\n",
        "answer_grader_prompt = \"\"\"QUESTION: \\n\\n {question} \\n\\n STUDENT ANSWER: {generation}.\n",
        "\n",
        "Return JSON with two two keys, binary_score is 'yes' or 'no' score to indicate whether the STUDENT ANSWER meets the criteria. And a key, explanation, that contains an explanation of the score.\"\"\"\n",
        "\n",
        "# Test\n",
        "question = \"What are the vision models released today as part of Llama 3.2?\"\n",
        "answer = \"The Llama 3.2 models released today include two vision models: Llama 3.2 11B Vision Instruct and Llama 3.2 90B Vision Instruct, which are available on Azure AI Model Catalog via managed compute. These models are part of Meta's first foray into multimodal AI and rival closed models like Anthropic's Claude 3 Haiku and OpenAI's GPT-4o mini in visual reasoning. They replace the older text-only Llama 3.1 models.\"\n",
        "\n",
        "# Test using question and generation from above\n",
        "answer_grader_prompt_formatted = answer_grader_prompt.format(question=question, generation=answer)\n",
        "result = llm_json_mode.invoke([SystemMessage(content=answer_grader_instructions)] + [HumanMessage(content=answer_grader_prompt_formatted)])\n",
        "json.loads(result.content)"
      ],
      "metadata": {
        "id": "EaxGhp6KlYvY"
      },
      "execution_count": null,
      "outputs": []
    },
    {
      "cell_type": "markdown",
      "source": [
        "# **Web Search Tool**"
      ],
      "metadata": {
        "id": "kZBFembplRAA"
      }
    },
    {
      "cell_type": "code",
      "source": [
        "### Search\n",
        "from langchain_community.tools.tavily_search import TavilySearchResults\n",
        "web_search_tool = TavilySearchResults(k=3)"
      ],
      "metadata": {
        "id": "MWf-OXyIlfa9"
      },
      "execution_count": null,
      "outputs": []
    },
    {
      "cell_type": "markdown",
      "source": [
        "# **Graph**"
      ],
      "metadata": {
        "id": "__a2b8qeljSA"
      }
    },
    {
      "cell_type": "code",
      "source": [
        "import operator\n",
        "from typing_extensions import TypedDict\n",
        "from typing import List, Annotated\n",
        "\n",
        "class GraphState(TypedDict):\n",
        "    \"\"\"\n",
        "    Graph state is a dictionary that contains information we want to propagate to, and modify in, each graph node.\n",
        "    \"\"\"\n",
        "    question : str # User question\n",
        "    generation : str # LLM generation\n",
        "    web_search : str # Binary decision to run web search\n",
        "    max_retries : int # Max number of retries for answer generation\n",
        "    answers : int # Number of answers generated\n",
        "    loop_step: Annotated[int, operator.add]\n",
        "    documents : List[str] # List of retrieved documents"
      ],
      "metadata": {
        "id": "8J8NZy5slmor"
      },
      "execution_count": null,
      "outputs": []
    },
    {
      "cell_type": "code",
      "source": [
        "from langchain.schema import Document\n",
        "from langgraph.graph import END\n",
        "\n",
        "### Nodes\n",
        "def retrieve(state):\n",
        "    \"\"\"\n",
        "    Retrieve documents from vectorstore\n",
        "\n",
        "    Args:\n",
        "        state (dict): The current graph state\n",
        "\n",
        "    Returns:\n",
        "        state (dict): New key added to state, documents, that contains retrieved documents\n",
        "    \"\"\"\n",
        "    print(\"---RETRIEVE---\")\n",
        "    question = state[\"question\"]\n",
        "\n",
        "    # Write retrieved documents to documents key in state\n",
        "    documents = retriever.invoke(question)\n",
        "    return {\"documents\": documents}\n",
        "\n",
        "def generate(state):\n",
        "    \"\"\"\n",
        "    Generate answer using RAG on retrieved documents\n",
        "\n",
        "    Args:\n",
        "        state (dict): The current graph state\n",
        "\n",
        "    Returns:\n",
        "        state (dict): New key added to state, generation, that contains LLM generation\n",
        "    \"\"\"\n",
        "    print(\"---GENERATE---\")\n",
        "    question = state[\"question\"]\n",
        "    documents = state[\"documents\"]\n",
        "    loop_step = state.get(\"loop_step\", 0)\n",
        "\n",
        "    # RAG generation\n",
        "    docs_txt = format_docs(documents)\n",
        "    rag_prompt_formatted = rag_prompt.format(context=docs_txt, question=question)\n",
        "    generation = llm.invoke([HumanMessage(content=rag_prompt_formatted)])\n",
        "    return {\"generation\": generation, \"loop_step\": loop_step+1}\n",
        "\n",
        "def grade_documents(state):\n",
        "    \"\"\"\n",
        "    Determines whether the retrieved documents are relevant to the question\n",
        "    If any document is not relevant, we will set a flag to run web search\n",
        "\n",
        "    Args:\n",
        "        state (dict): The current graph state\n",
        "\n",
        "    Returns:\n",
        "        state (dict): Filtered out irrelevant documents and updated web_search state\n",
        "    \"\"\"\n",
        "\n",
        "    print(\"---CHECK DOCUMENT RELEVANCE TO QUESTION---\")\n",
        "    question = state[\"question\"]\n",
        "    documents = state[\"documents\"]\n",
        "\n",
        "    # Score each doc\n",
        "    filtered_docs = []\n",
        "    web_search = \"No\"\n",
        "    for d in documents:\n",
        "        doc_grader_prompt_formatted = doc_grader_prompt.format(document=d.page_content, question=question)\n",
        "        result = llm_json_mode.invoke([SystemMessage(content=doc_grader_instructions)] + [HumanMessage(content=doc_grader_prompt_formatted)])\n",
        "        grade = json.loads(result.content)['binary_score']\n",
        "        # Document relevant\n",
        "        if grade.lower() == \"yes\":\n",
        "            print(\"---GRADE: DOCUMENT RELEVANT---\")\n",
        "            filtered_docs.append(d)\n",
        "        # Document not relevant\n",
        "        else:\n",
        "            print(\"---GRADE: DOCUMENT NOT RELEVANT---\")\n",
        "            # We do not include the document in filtered_docs\n",
        "            # We set a flag to indicate that we want to run web search\n",
        "            web_search = \"Yes\"\n",
        "            continue\n",
        "    return {\"documents\": filtered_docs, \"web_search\": web_search}\n",
        "\n",
        "def web_search(state):\n",
        "    \"\"\"\n",
        "    Web search based based on the question\n",
        "\n",
        "    Args:\n",
        "        state (dict): The current graph state\n",
        "\n",
        "    Returns:\n",
        "        state (dict): Appended web results to documents\n",
        "    \"\"\"\n",
        "\n",
        "    print(\"---WEB SEARCH---\")\n",
        "    question = state[\"question\"]\n",
        "    documents = state.get(\"documents\", [])\n",
        "\n",
        "    # Web search\n",
        "    docs = web_search_tool.invoke({\"query\": question})\n",
        "    web_results = \"\\n\".join([d[\"content\"] for d in docs])\n",
        "    web_results = Document(page_content=web_results)\n",
        "    documents.append(web_results)\n",
        "    return {\"documents\": documents}\n",
        "\n",
        "### Edges\n",
        "\n",
        "def route_question(state):\n",
        "    \"\"\"\n",
        "    Route question to web search or RAG\n",
        "\n",
        "    Args:\n",
        "        state (dict): The current graph state\n",
        "\n",
        "    Returns:\n",
        "        str: Next node to call\n",
        "    \"\"\"\n",
        "\n",
        "    print(\"---ROUTE QUESTION---\")\n",
        "    route_question = llm_json_mode.invoke([SystemMessage(content=router_instructions)] + [HumanMessage(content=state[\"question\"])])\n",
        "    source = json.loads(route_question.content)['datasource']\n",
        "    if source == 'websearch':\n",
        "        print(\"---ROUTE QUESTION TO WEB SEARCH---\")\n",
        "        return \"websearch\"\n",
        "    elif source == 'vectorstore':\n",
        "        print(\"---ROUTE QUESTION TO RAG---\")\n",
        "        return \"vectorstore\"\n",
        "\n",
        "def decide_to_generate(state):\n",
        "    \"\"\"\n",
        "    Determines whether to generate an answer, or add web search\n",
        "\n",
        "    Args:\n",
        "        state (dict): The current graph state\n",
        "\n",
        "    Returns:\n",
        "        str: Binary decision for next node to call\n",
        "    \"\"\"\n",
        "\n",
        "    print(\"---ASSESS GRADED DOCUMENTS---\")\n",
        "    question = state[\"question\"]\n",
        "    web_search = state[\"web_search\"]\n",
        "    filtered_documents = state[\"documents\"]\n",
        "\n",
        "    if web_search == \"Yes\":\n",
        "        # All documents have been filtered check_relevance\n",
        "        # We will re-generate a new query\n",
        "        print(\"---DECISION: NOT ALL DOCUMENTS ARE RELEVANT TO QUESTION, INCLUDE WEB SEARCH---\")\n",
        "        return \"websearch\"\n",
        "    else:\n",
        "        # We have relevant documents, so generate answer\n",
        "        print(\"---DECISION: GENERATE---\")\n",
        "        return \"generate\"\n",
        "\n",
        "def grade_generation_v_documents_and_question(state):\n",
        "    \"\"\"\n",
        "    Determines whether the generation is grounded in the document and answers question\n",
        "\n",
        "    Args:\n",
        "        state (dict): The current graph state\n",
        "\n",
        "    Returns:\n",
        "        str: Decision for next node to call\n",
        "    \"\"\"\n",
        "\n",
        "    print(\"---CHECK HALLUCINATIONS---\")\n",
        "    question = state[\"question\"]\n",
        "    documents = state[\"documents\"]\n",
        "    generation = state[\"generation\"]\n",
        "    max_retries = state.get(\"max_retries\", 3) # Default to 3 if not provided\n",
        "\n",
        "    hallucination_grader_prompt_formatted = hallucination_grader_prompt.format(documents=format_docs(documents), generation=generation.content)\n",
        "    result = llm_json_mode.invoke([SystemMessage(content=hallucination_grader_instructions)] + [HumanMessage(content=hallucination_grader_prompt_formatted)])\n",
        "    grade = json.loads(result.content)['binary_score']\n",
        "\n",
        "    # Check hallucination\n",
        "    if grade == \"yes\":\n",
        "        print(\"---DECISION: GENERATION IS GROUNDED IN DOCUMENTS---\")\n",
        "        # Check question-answering\n",
        "        print(\"---GRADE GENERATION vs QUESTION---\")\n",
        "        # Test using question and generation from above\n",
        "        answer_grader_prompt_formatted = answer_grader_prompt.format(question=question, generation=generation.content)\n",
        "        result = llm_json_mode.invoke([SystemMessage(content=answer_grader_instructions)] + [HumanMessage(content=answer_grader_prompt_formatted)])\n",
        "        grade = json.loads(result.content)['binary_score']\n",
        "        if grade == \"yes\":\n",
        "            print(\"---DECISION: GENERATION ADDRESSES QUESTION---\")\n",
        "            return \"useful\"\n",
        "        elif state[\"loop_step\"] <= max_retries:\n",
        "            print(\"---DECISION: GENERATION DOES NOT ADDRESS QUESTION---\")\n",
        "            return \"not useful\"\n",
        "        else:\n",
        "            print(\"---DECISION: MAX RETRIES REACHED---\")\n",
        "            return \"max retries\"\n",
        "    elif state[\"loop_step\"] <= max_retries:\n",
        "        print(\"---DECISION: GENERATION IS NOT GROUNDED IN DOCUMENTS, RE-TRY---\")\n",
        "        return \"not supported\"\n",
        "    else:\n",
        "        print(\"---DECISION: MAX RETRIES REACHED---\")\n",
        "        return \"max retries\""
      ],
      "metadata": {
        "id": "mupmfzDnlrmG"
      },
      "execution_count": null,
      "outputs": []
    },
    {
      "cell_type": "markdown",
      "source": [
        "# **Control Flow**"
      ],
      "metadata": {
        "id": "JUiw5hc0luKM"
      }
    },
    {
      "cell_type": "code",
      "source": [
        "from langgraph.graph import StateGraph\n",
        "from IPython.display import Image, display\n",
        "\n",
        "workflow = StateGraph(GraphState)\n",
        "\n",
        "# Define the nodes\n",
        "workflow.add_node(\"websearch\", web_search) # web search\n",
        "workflow.add_node(\"retrieve\", retrieve) # retrieve\n",
        "workflow.add_node(\"grade_documents\", grade_documents) # grade documents\n",
        "workflow.add_node(\"generate\", generate) # generate\n",
        "\n",
        "# Build graph\n",
        "workflow.set_conditional_entry_point(\n",
        "    route_question,\n",
        "    {\n",
        "        \"websearch\": \"websearch\",\n",
        "        \"vectorstore\": \"retrieve\",\n",
        "    },\n",
        ")\n",
        "workflow.add_edge(\"websearch\", \"generate\")\n",
        "workflow.add_edge(\"retrieve\", \"grade_documents\")\n",
        "workflow.add_conditional_edges(\n",
        "    \"grade_documents\",\n",
        "    decide_to_generate,\n",
        "    {\n",
        "        \"websearch\": \"websearch\",\n",
        "        \"generate\": \"generate\",\n",
        "    },\n",
        ")\n",
        "workflow.add_conditional_edges(\n",
        "    \"generate\",\n",
        "    grade_generation_v_documents_and_question,\n",
        "    {\n",
        "        \"not supported\": \"generate\",\n",
        "        \"useful\": END,\n",
        "        \"not useful\": \"websearch\",\n",
        "        \"max retries\": END,\n",
        "    },\n",
        ")\n",
        "\n",
        "# Compile\n",
        "graph = workflow.compile()\n",
        "display(Image(graph.get_graph().draw_mermaid_png()))"
      ],
      "metadata": {
        "id": "O_vdYfvAlxWA"
      },
      "execution_count": null,
      "outputs": []
    },
    {
      "cell_type": "code",
      "source": [
        "inputs = {\"question\": \"What are the types of agent memory?\", \"max_retries\": 3}\n",
        "for event in graph.stream(inputs, stream_mode=\"values\"):\n",
        "    print(event)"
      ],
      "metadata": {
        "id": "FH8BFFaAl2qs"
      },
      "execution_count": null,
      "outputs": []
    },
    {
      "cell_type": "code",
      "source": [
        "# Test on current events\n",
        "inputs = {\"question\": \"What are the models released today for llama3.2?\", \"max_retries\": 3}\n",
        "for event in graph.stream(inputs, stream_mode=\"values\"):\n",
        "    print(event)"
      ],
      "metadata": {
        "id": "j1KIH7fRl4gw"
      },
      "execution_count": null,
      "outputs": []
    }
  ]
}